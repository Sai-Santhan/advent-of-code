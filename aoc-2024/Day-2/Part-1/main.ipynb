{
 "cells": [
  {
   "cell_type": "code",
   "execution_count": 1,
   "metadata": {},
   "outputs": [
    {
     "name": "stdout",
     "output_type": "stream",
     "text": [
      "359\n"
     ]
    }
   ],
   "source": [
    "with open(\"../input.txt\", \"r\") as file:\n",
    "    safe = 0\n",
    "    for line in file:\n",
    "        a = [int(x) for x in line.split(\" \")]\n",
    "        if a[0] > a[1]:\n",
    "            is_not_safe = False\n",
    "            for i in range(len(a)-1):\n",
    "                if a[i] - a[i+1] < 1 or a[i] - a[i+1] > 3:\n",
    "                    is_not_safe = True\n",
    "                    break\n",
    "            if not is_not_safe:\n",
    "                safe += 1\n",
    "        elif a[0] < a[1]:\n",
    "            is_not_safe = False\n",
    "            for i in range(len(a)-1):\n",
    "                if a[i+1] - a[i] < 1 or a[i+1] - a[i] > 3:\n",
    "                    is_not_safe = True\n",
    "                    break\n",
    "            if not is_not_safe:\n",
    "                safe += 1\n",
    "        else:\n",
    "            continue\n",
    "    print(safe)"
   ]
  }
 ],
 "metadata": {
  "kernelspec": {
   "display_name": "3.12.3",
   "language": "python",
   "name": "python3"
  },
  "language_info": {
   "codemirror_mode": {
    "name": "ipython",
    "version": 3
   },
   "file_extension": ".py",
   "mimetype": "text/x-python",
   "name": "python",
   "nbconvert_exporter": "python",
   "pygments_lexer": "ipython3",
   "version": "3.12.3"
  }
 },
 "nbformat": 4,
 "nbformat_minor": 2
}
